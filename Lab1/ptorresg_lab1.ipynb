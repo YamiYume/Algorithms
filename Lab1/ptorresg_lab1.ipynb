{
 "cells": [
  {
   "cell_type": "markdown",
   "metadata": {},
   "source": [
    "# Laboratory #1 algorithms"
   ]
  },
  {
   "cell_type": "markdown",
   "metadata": {},
   "source": [
    "## Data types and data structures"
   ]
  },
  {
   "cell_type": "markdown",
   "metadata": {},
   "source": [
    "### Basic data types"
   ]
  },
  {
   "cell_type": "markdown",
   "metadata": {},
   "source": [
    "#### Strings"
   ]
  },
  {
   "cell_type": "code",
   "execution_count": 29,
   "metadata": {},
   "outputs": [
    {
     "name": "stdout",
     "output_type": "stream",
     "text": [
      "-----------------------------------\n",
      "<class 'str'>\n",
      "<class 'str'>\n",
      "<class 'str'>\n",
      "<class 'str'>\n",
      "-----------------------------------\n",
      "hello potatoes\n",
      "-----------------------------------\n",
      "hello hello potatoes\n",
      "-----------------------------------\n",
      "h\n",
      "e\n",
      "l\n",
      "l\n",
      "o\n",
      "-----------------------------------\n",
      "pot\n",
      "toes\n",
      "at\n",
      "ptte\n",
      "oaos\n",
      "-----------------------------------\n",
      "petatees with salt\n",
      "-----------------------------------\n",
      "4\n",
      "-----------------------------------\n",
      "2\n",
      "t\n",
      "-----------------------------------\n",
      "at the end i would had wrotten potatoes\n",
      "345 times\n"
     ]
    }
   ],
   "source": [
    "print('-----------------------------------')\n",
    "\n",
    "string_1 = 'hello'\n",
    "string_2 = \"potatoes\"\n",
    "string_3 = '100'\n",
    "string_4 = \"1.234\"\n",
    "\n",
    "#string identification\n",
    "'''The type of string members is str'''\n",
    "print(type(string_1))\n",
    "print(type(string_2))\n",
    "print(type(string_3))\n",
    "print(type(string_4))\n",
    "\n",
    "print('-----------------------------------')\n",
    "\n",
    "# string concatenation\n",
    "'''Is possible to concaternate any number of strings by using\n",
    "   the operator +'''\n",
    "concatenated_string = string_1 + ' ' + string_2\n",
    "print(concatenated_string)\n",
    "\n",
    "print('-----------------------------------')\n",
    "\n",
    "'''Is possible to repetively concatenate strings by using the\n",
    "   operator *'''\n",
    "# advance string concatenation\n",
    "advance_concatenated_string = (string_1 + ' ')*2 + string_2\n",
    "print(advance_concatenated_string)\n",
    "\n",
    "print('-----------------------------------')\n",
    "\n",
    "# string access\n",
    "'''Is possible to access a specific character in a string\n",
    "   by using the access operator [], the index start from 0'''\n",
    "print(string_1[0])\n",
    "print(string_1[1])\n",
    "print(string_1[2])\n",
    "print(string_1[3])\n",
    "print(string_1[4])\n",
    "\n",
    "print('-----------------------------------')\n",
    "\n",
    "# string slicing\n",
    "'''Is possible to slice a string in very different ways \n",
    "   by using the access operator [] and the operator :'''\n",
    "end_sliced_string = string_2[:3]\n",
    "start_sliced_string = string_2[4:]\n",
    "mid_sliced_string = string_2[3:5]\n",
    "step_sliced_string = string_2[::2]\n",
    "other_step_sliced_string = string_2[1::2]\n",
    "print(end_sliced_string)\n",
    "print(start_sliced_string)\n",
    "print(mid_sliced_string)\n",
    "print(step_sliced_string)\n",
    "print(other_step_sliced_string)\n",
    "\n",
    "print('-----------------------------------')\n",
    "\n",
    "# string operations\n",
    "\n",
    "string_a = 'potatoes with salt'\n",
    "\n",
    "# replace all 'o' with 'e'\n",
    "print(string_a.replace('o', 'e'))\n",
    "\n",
    "print('-----------------------------------')\n",
    "\n",
    "# count the number of 't' in the string\n",
    "print(string_a.count('t'))\n",
    "\n",
    "print('-----------------------------------')\n",
    "\n",
    "# give the index of the first intance of 't'\n",
    "print(string_a.find('t'))\n",
    "print(string_a[string_a.find('t')])\n",
    "\n",
    "print('-----------------------------------')\n",
    "\n",
    "# string formatting\n",
    "\n",
    "#the recommended way to format strings now is\n",
    "\n",
    "a_word = 'potatoes'\n",
    "b_number = 345\n",
    "\n",
    "# extra tip multiline strings and docstring style comments are written\n",
    "# using '''\n",
    "\n",
    "string_formatted = f'''at the end i would had wrotten {a_word}\n",
    "{b_number} times'''\n",
    "\n",
    "print(string_formatted)"
   ]
  },
  {
   "cell_type": "markdown",
   "metadata": {},
   "source": [
    "#### Integers"
   ]
  },
  {
   "cell_type": "code",
   "execution_count": 30,
   "metadata": {},
   "outputs": [
    {
     "name": "stdout",
     "output_type": "stream",
     "text": [
      "-----------------------------------\n",
      "<class 'int'>\n",
      "<class 'int'>\n",
      "<class 'int'>\n",
      "<class 'int'>\n",
      "-----------------------------------\n",
      "10 + 2\n",
      "12\n",
      "\n",
      "10 - 2\n",
      "8\n",
      "\n",
      "10 * 2\n",
      "20\n",
      "\n",
      "10 / 2\n",
      "5.0\n",
      "\n",
      "10 ** 2\n",
      "100\n",
      "\n",
      "11 % 5\n",
      "1\n",
      "\n",
      "11 // 2\n",
      "5\n",
      "-----------------------------------\n"
     ]
    }
   ],
   "source": [
    "print('-----------------------------------')\n",
    "\n",
    "# integer identification\n",
    "'''The type of string member is int'''\n",
    "print(type(121))\n",
    "print(type(2))\n",
    "print(type(-3))\n",
    "print(type(-2000))\n",
    "\n",
    "print('-----------------------------------')\n",
    "\n",
    "# integer operators\n",
    "added_int = 10 + 2\n",
    "subtracted_int = 10 - 2\n",
    "multiplied_int = 10 * 2\n",
    "'''In particular division always return a float, for integer result\n",
    "   use the floor division'''\n",
    "divided_int = 10 / 2\n",
    "# pow operator in python\n",
    "powered_int = 10 ** 2\n",
    "# module operator python\n",
    "moduled_int = 11 % 5\n",
    "# floor division python\n",
    "floor_divided_int = 11//2\n",
    "\n",
    "print('10 + 2')\n",
    "print(added_int)\n",
    "print()\n",
    "print('10 - 2')\n",
    "print(subtracted_int)\n",
    "print()\n",
    "print('10 * 2')\n",
    "print(multiplied_int)\n",
    "print()\n",
    "print('10 / 2')\n",
    "print(divided_int)\n",
    "print()\n",
    "print('10 ** 2')\n",
    "print(powered_int)\n",
    "print()\n",
    "print('11 % 5')\n",
    "print(moduled_int)\n",
    "print()\n",
    "print('11 // 2')\n",
    "print(floor_divided_int)\n",
    "\n",
    "print('-----------------------------------')\n"
   ]
  },
  {
   "cell_type": "markdown",
   "metadata": {},
   "source": [
    "#### Floats"
   ]
  },
  {
   "cell_type": "code",
   "execution_count": 31,
   "metadata": {},
   "outputs": [
    {
     "name": "stdout",
     "output_type": "stream",
     "text": [
      "-----------------------------------\n",
      "<class 'float'>\n",
      "<class 'float'>\n",
      "<class 'float'>\n",
      "<class 'float'>\n",
      "-----------------------------------\n",
      "10 + 2.4\n",
      "13.4\n",
      "\n",
      "10.2 - 2\n",
      "8.2\n",
      "\n",
      "10.44 * 2\n",
      "20.88\n",
      "\n",
      "10 / 2.6\n",
      "3.846153846153846\n",
      "\n",
      "10.57 ** 2\n",
      "111.7249\n",
      "\n",
      "11.45 % 5\n",
      "1.4499999999999993\n",
      "\n",
      "12.45 // 2\n",
      "6.0\n",
      "-----------------------------------\n"
     ]
    }
   ],
   "source": [
    "print('-----------------------------------')\n",
    "\n",
    "# float identification\n",
    "'''The type of string member is float'''\n",
    "print(type(122.54))\n",
    "print(type(2.34))\n",
    "print(type(0.0))\n",
    "print(type(-126.34))\n",
    "\n",
    "print('-----------------------------------')\n",
    "\n",
    "# float operators\n",
    "added_float = 11 + 2.4\n",
    "subtracted_float = 10.2 - 2\n",
    "multiplied_float = 10.44 * 2\n",
    "'''In particular division always return a float, for integer result\n",
    "   use the floor division'''\n",
    "divided_float = 10 / 2.6\n",
    "# pow operator in python\n",
    "powered_float = 10.57 ** 2\n",
    "# module operator python\n",
    "moduled_float = 11.45 % 5\n",
    "# floor division python\n",
    "floor_divided_float = 12.45//2\n",
    "\n",
    "print('10 + 2.4')\n",
    "print(added_float)\n",
    "print()\n",
    "print('10.2 - 2')\n",
    "print(subtracted_float)\n",
    "print()\n",
    "print('10.44 * 2')\n",
    "print(multiplied_float)\n",
    "print()\n",
    "print('10 / 2.6')\n",
    "print(divided_float)\n",
    "print()\n",
    "print('10.57 ** 2')\n",
    "print(powered_float)\n",
    "print()\n",
    "print('11.45 % 5')\n",
    "print(moduled_float)\n",
    "print()\n",
    "print('12.45 // 2')\n",
    "print(floor_divided_float)\n",
    "\n",
    "print('-----------------------------------')\n"
   ]
  },
  {
   "cell_type": "markdown",
   "metadata": {},
   "source": [
    "#### Booleans"
   ]
  },
  {
   "cell_type": "code",
   "execution_count": 32,
   "metadata": {},
   "outputs": [
    {
     "name": "stdout",
     "output_type": "stream",
     "text": [
      "-----------------------------------\n",
      "<class 'bool'>\n",
      "<class 'bool'>\n",
      "-----------------------------------\n",
      "and\n",
      "True and True\n",
      "True\n",
      "True and False\n",
      "False\n",
      "False and True\n",
      "False\n",
      "False and False\n",
      "False\n",
      "\n",
      "or\n",
      "True or True\n",
      "True\n",
      "True or False\n",
      "True\n",
      "False or True\n",
      "True\n",
      "False or False\n",
      "False\n",
      "\n",
      "not\n",
      "not True\n",
      "False\n",
      "not False\n",
      "True\n"
     ]
    }
   ],
   "source": [
    "print('-----------------------------------')\n",
    "\n",
    "A = True\n",
    "B =  False\n",
    "\n",
    "# boolean identification\n",
    "'''The type of boolean member is bool'''\n",
    "print(type(A))\n",
    "print(type(B))\n",
    "\n",
    "print('-----------------------------------')\n",
    "\n",
    "# boolean operations\n",
    "'''The basic boolean operations'''\n",
    "print('and')\n",
    "print('True and True')\n",
    "print(True and True)\n",
    "print('True and False')\n",
    "print(True and False)\n",
    "print('False and True')\n",
    "print(False and True)\n",
    "print('False and False')\n",
    "print(False and False)\n",
    "print('')\n",
    "print('or')\n",
    "print('True or True')\n",
    "print(True or True)\n",
    "print('True or False')\n",
    "print(True or False)\n",
    "print('False or True')\n",
    "print(False or True)\n",
    "print('False or False')\n",
    "print(False or False)\n",
    "print('')\n",
    "print('not')\n",
    "print('not True')\n",
    "print(not True)\n",
    "print('not False')\n",
    "print(not False)\n"
   ]
  },
  {
   "cell_type": "markdown",
   "metadata": {},
   "source": [
    "#### Integer, Float and String transformations"
   ]
  },
  {
   "cell_type": "code",
   "execution_count": 33,
   "metadata": {},
   "outputs": [
    {
     "name": "stdout",
     "output_type": "stream",
     "text": [
      "-----------------------------------\n",
      "integer transformation\n",
      "205.45 -> 205\n",
      "-204.67 -> -204\n",
      "123 -> 123\n",
      "-----------------------------------\n",
      "float transformation\n",
      "205.45 -> 20.0\n",
      "-204.67 -> -23.0\n",
      "123 -> 123.0\n",
      "254.6 -> 254.6\n",
      "-----------------------------------\n",
      "string transformation\n",
      "20 -> 20\n",
      "-23 -> -23\n",
      "205.45 -> 205.45\n",
      "-204.67 -> -204.67\n",
      "-----------------------------------\n"
     ]
    }
   ],
   "source": [
    "float_example_1 = 205.45\n",
    "float_example_2 = -204.67\n",
    "integer_example_1 = 20\n",
    "integer_example_2 = -23\n",
    "string_example_1 = '123'\n",
    "string_example_2 = '254.6'\n",
    "\n",
    "print('-----------------------------------')\n",
    "\n",
    "print('integer transformation')\n",
    "# transformations to integer\n",
    "print(float_example_1, end=' -> ')\n",
    "print(int(float_example_1))\n",
    "print(float_example_2, end=' -> ')\n",
    "print(int(float_example_2))\n",
    "print(string_example_1, end=' -> ')\n",
    "print(int(string_example_1))\n",
    "\n",
    "print('-----------------------------------')\n",
    "\n",
    "print('float transformation')\n",
    "# transformation to float\n",
    "print(float_example_1, end=' -> ')\n",
    "print(float(integer_example_1))\n",
    "print(float_example_2, end=' -> ')\n",
    "print(float(integer_example_2))\n",
    "print(string_example_1, end=' -> ')\n",
    "print(float(string_example_1))\n",
    "print(string_example_2, end=' -> ')\n",
    "print(float(string_example_2))\n",
    "\n",
    "print('-----------------------------------')\n",
    "\n",
    "print('string transformation')\n",
    "# transformation to string\n",
    "print(integer_example_1, end=' -> ')\n",
    "print(str(integer_example_1))\n",
    "print(integer_example_2, end=' -> ')\n",
    "print(str(integer_example_2))\n",
    "print(float_example_1, end=' -> ')\n",
    "print(str(float_example_1))\n",
    "print(float_example_2, end=' -> ')\n",
    "print(str(float_example_2))\n",
    "\n",
    "print('-----------------------------------')\n"
   ]
  },
  {
   "cell_type": "markdown",
   "metadata": {},
   "source": [
    "#### Boolean evaluation"
   ]
  },
  {
   "cell_type": "code",
   "execution_count": 34,
   "metadata": {},
   "outputs": [
    {
     "name": "stdout",
     "output_type": "stream",
     "text": [
      "-----------------------------------\n",
      "''\n",
      "False\n",
      "\n",
      "anything\n",
      "True\n",
      "\n",
      "0\n",
      "False\n",
      "\n",
      "23\n",
      "True\n",
      "\n",
      "0.0\n",
      "False\n",
      "\n",
      "-122.2\n",
      "True\n",
      "-----------------------------------\n"
     ]
    }
   ],
   "source": [
    "false_string = ''\n",
    "true_string = 'anything'\n",
    "false_int = 0\n",
    "true_int = 23\n",
    "false_float = 0.0\n",
    "true_float = -122.2\n",
    "\n",
    "print('-----------------------------------')\n",
    "\n",
    "# bool evaluation of values\n",
    "''' In python every object can have a definition for its\n",
    "    boolean value'''\n",
    "print(\"''\")\n",
    "print(bool(false_string))\n",
    "print()\n",
    "print(true_string)\n",
    "print(bool(true_string))\n",
    "print()\n",
    "print(false_int)\n",
    "print(bool(false_int))\n",
    "print()\n",
    "print(true_int)\n",
    "print(bool(true_int))\n",
    "print()\n",
    "print(false_float)\n",
    "print(bool(false_float))\n",
    "print()\n",
    "print(true_float)\n",
    "print(bool(true_float))\n",
    "\n",
    "print('-----------------------------------')\n"
   ]
  },
  {
   "cell_type": "markdown",
   "metadata": {},
   "source": [
    "### Data collections"
   ]
  },
  {
   "cell_type": "markdown",
   "metadata": {},
   "source": [
    "#### List"
   ]
  },
  {
   "cell_type": "code",
   "execution_count": 35,
   "metadata": {},
   "outputs": [
    {
     "name": "stdout",
     "output_type": "stream",
     "text": [
      "-----------------------------------\n",
      "[1, 'a', 32.5, True]\n",
      "-----------------------------------\n",
      "4\n",
      "-----------------------------------\n",
      "1\n",
      "-----------------------------------\n",
      "True\n",
      "True\n",
      "-----------------------------------\n",
      "[1, 'a', 32.5, True]\n",
      "[1, 'a', 32.5, True, 'potatoes']\n",
      "[1, 'a', True, 'potatoes']\n",
      "['a', True, 'potatoes']\n",
      "[3.1416, True, 'potatoes']\n",
      "-----------------------------------\n"
     ]
    }
   ],
   "source": [
    "list_a = [1, 'a', 32.5, True]\n",
    "\n",
    "print('-----------------------------------')\n",
    "\n",
    "# we preferentially always create a list using []\n",
    "print(list_a)\n",
    "\n",
    "print('-----------------------------------')\n",
    "\n",
    "''' len is a attribute tha brings the lenght of the\n",
    "    list so we can use it in constant time'''\n",
    "\n",
    "print(len(list_a))\n",
    "\n",
    "print('-----------------------------------')\n",
    "\n",
    "# access to the first element of a list\n",
    "print(list_a[0])\n",
    "\n",
    "print('-----------------------------------')\n",
    "\n",
    "# access to the las element of a list, works but\n",
    "print(list_a[len(list_a) - 1])\n",
    "\n",
    "# this work better\n",
    "print(list_a[-1])\n",
    "\n",
    "print('-----------------------------------')\n",
    "\n",
    "# we can add and remove elements\n",
    "\n",
    "print(list_a)\n",
    "list_a.append('potatoes')\n",
    "\n",
    "print(list_a)\n",
    "# remove by element\n",
    "list_a.remove(32.5)\n",
    "print(list_a)\n",
    "# remove by index\n",
    "del list_a[0]\n",
    "print(list_a)\n",
    "\n",
    "# also we can change element values\n",
    "\n",
    "list_a[0] = 3.1416\n",
    "print(list_a)\n",
    "\n",
    "\n",
    "print('-----------------------------------')"
   ]
  },
  {
   "cell_type": "code",
   "execution_count": 36,
   "metadata": {},
   "outputs": [
    {
     "name": "stdout",
     "output_type": "stream",
     "text": [
      "-----------------------------------\n",
      "[10, 30, 50, 70, 90]\n",
      "[20, 40, 60, 80, 100]\n",
      "[40, 50, 60, 70, 80, 90, 100]\n",
      "[10, 20, 30, 40, 50]\n",
      "[100, 90, 80, 70, 60, 50, 40, 30, 20, 10]\n",
      "-----------------------------------\n"
     ]
    }
   ],
   "source": [
    "print('-----------------------------------')\n",
    "\n",
    "list_b = [10, 20, 30, 40, 50, 60,\n",
    "          70, 80, 90, 100]\n",
    "\n",
    "# list support slicing as string does\n",
    "\n",
    "print(list_b[::2])\n",
    "print(list_b[1::2])\n",
    "print(list_b[3:])\n",
    "print(list_b[:5])\n",
    "\n",
    "# extra trick reverse for strings and for list\n",
    "\n",
    "print(list_b[::-1])\n",
    "\n",
    "print('-----------------------------------')"
   ]
  },
  {
   "cell_type": "markdown",
   "metadata": {},
   "source": [
    "#### Tuple"
   ]
  },
  {
   "cell_type": "code",
   "execution_count": 37,
   "metadata": {},
   "outputs": [
    {
     "name": "stdout",
     "output_type": "stream",
     "text": [
      "-----------------------------------\n",
      "(23, 45, 234.56, True, 'hello')\n",
      "-----------------------------------\n",
      "(23, 234.56, 'hello')\n",
      "(45, True)\n",
      "(True, 'hello')\n",
      "(23, 45, 234.56)\n",
      "('hello', True, 234.56, 45, 23)\n",
      "-----------------------------------\n",
      "<class 'int'>\n",
      "<class 'tuple'>\n",
      "-----------------------------------\n"
     ]
    }
   ],
   "source": [
    "'''A tuple is a static connection so at difference of\n",
    "   list you can't change values of the elements and \n",
    "   can't add or remove elements'''\n",
    "\n",
    "print('-----------------------------------')\n",
    "\n",
    "tuple_a = (23, 45, 234.56, True, 'hello')\n",
    "print(tuple_a)\n",
    "\n",
    "print('-----------------------------------')\n",
    "\n",
    "#it still support slicing\n",
    "print(tuple_a[::2])\n",
    "print(tuple_a[1::2])\n",
    "print(tuple_a[3:])\n",
    "print(tuple_a[:3])\n",
    "print(tuple_a[::-1])\n",
    "\n",
    "# extra for create a single element tuple in case of need\n",
    "\n",
    "x = (123)\n",
    "y = (123, )\n",
    "\n",
    "# only y will be a tuple\n",
    "\n",
    "print('-----------------------------------')\n",
    "\n",
    "print(type(x))\n",
    "print(type(y))\n",
    "\n",
    "print('-----------------------------------')"
   ]
  },
  {
   "cell_type": "code",
   "execution_count": 38,
   "metadata": {},
   "outputs": [
    {
     "ename": "TypeError",
     "evalue": "'tuple' object does not support item assignment",
     "output_type": "error",
     "traceback": [
      "\u001b[1;31m---------------------------------------------------------------------------\u001b[0m",
      "\u001b[1;31mTypeError\u001b[0m                                 Traceback (most recent call last)",
      "\u001b[1;32m~\\AppData\\Local\\Temp/ipykernel_6768/837683606.py\u001b[0m in \u001b[0;36m<module>\u001b[1;34m\u001b[0m\n\u001b[0;32m      3\u001b[0m \u001b[0my\u001b[0m \u001b[1;33m=\u001b[0m \u001b[1;33m(\u001b[0m\u001b[1;36m123\u001b[0m\u001b[1;33m,\u001b[0m \u001b[1;33m)\u001b[0m\u001b[1;33m\u001b[0m\u001b[1;33m\u001b[0m\u001b[0m\n\u001b[0;32m      4\u001b[0m \u001b[1;33m\u001b[0m\u001b[0m\n\u001b[1;32m----> 5\u001b[1;33m \u001b[0my\u001b[0m\u001b[1;33m[\u001b[0m\u001b[1;36m0\u001b[0m\u001b[1;33m]\u001b[0m \u001b[1;33m=\u001b[0m \u001b[1;34m'potato'\u001b[0m\u001b[1;33m\u001b[0m\u001b[1;33m\u001b[0m\u001b[0m\n\u001b[0m",
      "\u001b[1;31mTypeError\u001b[0m: 'tuple' object does not support item assignment"
     ]
    }
   ],
   "source": [
    "# for demostration\n",
    "\n",
    "y = (123, )\n",
    "\n",
    "y[0] = 'potato'"
   ]
  },
  {
   "cell_type": "code",
   "execution_count": null,
   "metadata": {},
   "outputs": [
    {
     "ename": "TypeError",
     "evalue": "'tuple' object doesn't support item deletion",
     "output_type": "error",
     "traceback": [
      "\u001b[1;31m---------------------------------------------------------------------------\u001b[0m",
      "\u001b[1;31mTypeError\u001b[0m                                 Traceback (most recent call last)",
      "\u001b[1;32m~\\AppData\\Local\\Temp/ipykernel_940/3310824263.py\u001b[0m in \u001b[0;36m<module>\u001b[1;34m\u001b[0m\n\u001b[0;32m      3\u001b[0m \u001b[0my\u001b[0m \u001b[1;33m=\u001b[0m \u001b[1;33m(\u001b[0m\u001b[1;36m123\u001b[0m\u001b[1;33m,\u001b[0m \u001b[1;33m)\u001b[0m\u001b[1;33m\u001b[0m\u001b[1;33m\u001b[0m\u001b[0m\n\u001b[0;32m      4\u001b[0m \u001b[1;33m\u001b[0m\u001b[0m\n\u001b[1;32m----> 5\u001b[1;33m \u001b[1;32mdel\u001b[0m \u001b[0my\u001b[0m\u001b[1;33m[\u001b[0m\u001b[1;36m0\u001b[0m\u001b[1;33m]\u001b[0m\u001b[1;33m\u001b[0m\u001b[1;33m\u001b[0m\u001b[0m\n\u001b[0m",
      "\u001b[1;31mTypeError\u001b[0m: 'tuple' object doesn't support item deletion"
     ]
    }
   ],
   "source": [
    "# for demostration\n",
    "\n",
    "y = (123, )\n",
    "\n",
    "del y[0]"
   ]
  },
  {
   "cell_type": "markdown",
   "metadata": {},
   "source": [
    "#### Set"
   ]
  },
  {
   "cell_type": "code",
   "execution_count": null,
   "metadata": {},
   "outputs": [
    {
     "name": "stdout",
     "output_type": "stream",
     "text": [
      "-----------------------------------\n",
      "{40, 10, 50, 20, 30}\n",
      "<class 'set'>\n",
      "{70, 40, 80, 50, 60}\n",
      "<class 'set'>\n",
      "{80, 100, 70, 120, 90}\n",
      "<class 'set'>\n",
      "-----------------------------------\n",
      "{40, 10, 50, 20, 30}  union  {70, 40, 80, 50, 60}\n",
      "{70, 40, 10, 80, 50, 20, 60, 30}\n",
      "-----------------------------------\n",
      "{40, 10, 50, 20, 30}  intersection  {70, 40, 80, 50, 60}\n",
      "{40, 50}\n",
      "-----------------------------------\n",
      "{40, 10, 50, 20, 30}  difference  {70, 40, 80, 50, 60}\n",
      "{10, 20, 30}\n",
      "-----------------------------------\n",
      "{40, 10, 50, 20, 30}  symmettic difference  {70, 40, 80, 50, 60}\n",
      "{80, 20, 70, 10, 60, 30}\n",
      "-----------------------------------\n"
     ]
    }
   ],
   "source": [
    "'''A set is a unordered collection that dont allow for duplicates\n",
    "   and support set operations'''\n",
    "\n",
    "# for create a set\n",
    "\n",
    "print('-----------------------------------')\n",
    "\n",
    "list_a = [10, 20, 30, 40, 50]\n",
    "tuple_a = (40, 50, 60, 70, 80)\n",
    "\n",
    "set_a = set(list_a)\n",
    "set_b = set(tuple_a)\n",
    "set_c = {70, 80, 90, 100, 120}\n",
    "\n",
    "print(set_a)\n",
    "print(type(set_a))\n",
    "print(set_b)\n",
    "print(type(set_b))\n",
    "print(set_c)\n",
    "print(type(set_c))\n",
    "\n",
    "# set operations\n",
    "\n",
    "print('-----------------------------------')\n",
    "\n",
    "print(set_a, ' union ', set_b)\n",
    "print(set_a.union(set_b))\n",
    "\n",
    "print('-----------------------------------')\n",
    "\n",
    "print(set_a, ' intersection ', set_b)\n",
    "print(set_a.intersection(set_b))\n",
    "\n",
    "print('-----------------------------------')\n",
    "\n",
    "print(set_a, ' difference ', set_b)\n",
    "print(set_a.difference(set_b))\n",
    "\n",
    "print('-----------------------------------')\n",
    "\n",
    "print(set_a, ' symmettic difference ', set_b)\n",
    "print(set_a.symmetric_difference(set_b))\n",
    "\n",
    "print('-----------------------------------')"
   ]
  },
  {
   "cell_type": "markdown",
   "metadata": {},
   "source": [
    "#### Dict"
   ]
  },
  {
   "cell_type": "code",
   "execution_count": null,
   "metadata": {},
   "outputs": [
    {
     "name": "stdout",
     "output_type": "stream",
     "text": [
      "-----------------------------------\n",
      "{1: 'potatoes', 'strawberry': 345, 120: True}\n",
      "<class 'dict'>\n",
      "-----------------------------------\n",
      "345\n",
      "True\n",
      "-----------------------------------\n",
      "{1: 'potatoes', 'strawberry': 345, 120: True}\n",
      "{1: 'potatoes', 'strawberry': 345, 120: True, 'berry': False}\n",
      "-----------------------------------\n",
      "{1: 'potatoes', 'strawberry': 345, 120: True, 'berry': False}\n",
      "{1: 'potatoes', 'strawberry': 345, 120: True, 'berry': True}\n",
      "-----------------------------------\n"
     ]
    }
   ],
   "source": [
    "# Dict are the hash implementation of python\n",
    "# it maps a value to a given unique key\n",
    "\n",
    "# create a dict\n",
    "\n",
    "dict_a = {1: 'potatoes', 'strawberry': 345, 120: True}\n",
    "\n",
    "print('-----------------------------------')\n",
    "\n",
    "print(dict_a)\n",
    "print(type(dict_a))\n",
    "\n",
    "print('-----------------------------------')\n",
    "\n",
    "# access to a object in a dict\n",
    "\n",
    "print(dict_a['strawberry'])\n",
    "print(dict_a[120])\n",
    "\n",
    "print('-----------------------------------')\n",
    "\n",
    "# add a value to a dict\n",
    "\n",
    "print(dict_a)\n",
    "dict_a['berry'] = False\n",
    "print(dict_a)\n",
    "\n",
    "print('-----------------------------------')\n",
    "\n",
    "# modify a value in a dict\n",
    "\n",
    "print(dict_a)\n",
    "dict_a['berry'] = True\n",
    "print(dict_a)\n",
    "\n",
    "print('-----------------------------------')"
   ]
  },
  {
   "cell_type": "markdown",
   "metadata": {},
   "source": [
    "## Logical operations and loops"
   ]
  },
  {
   "cell_type": "markdown",
   "metadata": {},
   "source": [
    "### Logical operations"
   ]
  },
  {
   "cell_type": "markdown",
   "metadata": {},
   "source": [
    "#### Basic logical operations"
   ]
  },
  {
   "cell_type": "code",
   "execution_count": null,
   "metadata": {},
   "outputs": [
    {
     "name": "stdout",
     "output_type": "stream",
     "text": [
      "-----------------------------------\n",
      "equality\n",
      "a == b\n",
      "2 == 2\n",
      "True\n",
      "2 == 3\n",
      "False\n",
      "-----------------------------------\n",
      "inequality\n",
      "a != b\n",
      "2 != 2\n",
      "False\n",
      "2 != 3\n",
      "True\n",
      "-----------------------------------\n",
      "greater\n",
      "a > b\n",
      "3 > 2\n",
      "True\n",
      "1 > 2\n",
      "False\n",
      "-----------------------------------\n",
      "lesser\n",
      "a < b\n",
      "3 < 2\n",
      "False\n",
      "1 < 2\n",
      "True\n",
      "-----------------------------------\n",
      "greater or equal\n",
      "a >= b\n",
      "3 >= 2\n",
      "True\n",
      "1 >= 2\n",
      "False\n",
      "-----------------------------------\n",
      "lesser or equal\n",
      "a <= b\n",
      "3 <= 2\n",
      "True\n",
      "3 <= 2\n",
      "False\n",
      "-----------------------------------\n"
     ]
    }
   ],
   "source": [
    "'''in python we can make logical operations with booleans, with\n",
    "   any element that have a boolean value and with any function\n",
    "   that returns a element with boolean value or a boolean'''\n",
    "\n",
    "# basic boolean functions\n",
    "\n",
    "print('-----------------------------------')\n",
    "\n",
    "print('equality')\n",
    "print('a == b')\n",
    "print('2 == 2')\n",
    "print(2 == 2)\n",
    "print('2 == 3')\n",
    "print(2 == 3)\n",
    "print('-----------------------------------')\n",
    "print('inequality')\n",
    "print('a != b')\n",
    "print('2 != 2')\n",
    "print(2 != 2)\n",
    "print('2 != 3')\n",
    "print(2 != 3)\n",
    "print('-----------------------------------')\n",
    "print('greater')\n",
    "print('a > b')\n",
    "print('3 > 2')\n",
    "print(3 > 2)\n",
    "print('1 > 2')\n",
    "print(1 > 2)\n",
    "print('-----------------------------------')\n",
    "print('lesser')\n",
    "print('a < b')\n",
    "print('3 < 2')\n",
    "print(3 < 2)\n",
    "print('1 < 2')\n",
    "print(1 < 2)\n",
    "print('-----------------------------------')\n",
    "print('greater or equal')\n",
    "print('a >= b')\n",
    "print('3 >= 2')\n",
    "print(3 >= 2)\n",
    "print('1 >= 2')\n",
    "print(1 >= 2)\n",
    "print('-----------------------------------')\n",
    "print('lesser or equal')\n",
    "print('a <= b')\n",
    "print('3 <= 2')\n",
    "print(2 <= 2)\n",
    "print('3 <= 2')\n",
    "print(3 <= 2)\n",
    "print('-----------------------------------')\n"
   ]
  },
  {
   "cell_type": "code",
   "execution_count": null,
   "metadata": {},
   "outputs": [
    {
     "name": "stdout",
     "output_type": "stream",
     "text": [
      "-----------------------------------\n",
      "pertenency\n",
      "a in collection\n",
      "2 in [2, 3, 4]\n",
      "True\n",
      "5 in (2, 3, 4)\n",
      "False\n",
      "-----------------------------------\n"
     ]
    }
   ],
   "source": [
    "# also python can proccess pertenency operations\n",
    "\n",
    "print('-----------------------------------')\n",
    "print('pertenency')\n",
    "print('a in collection')\n",
    "print('2 in [2, 3, 4]')\n",
    "print(2 in [2, 3, 4])\n",
    "print('5 in (2, 3, 4)')\n",
    "print(5 in (2, 3, 4))\n",
    "print('-----------------------------------')\n"
   ]
  },
  {
   "cell_type": "code",
   "execution_count": null,
   "metadata": {},
   "outputs": [
    {
     "name": "stdout",
     "output_type": "stream",
     "text": [
      "-----------------------------------\n",
      "strict identity\n",
      "a ->  [2, 3, 4]\n",
      "b ->  [2, 3, 4]\n",
      "c ->  [2, 3, 4]\n",
      "a is c\n",
      "True\n",
      "a is b\n",
      "False\n",
      "-----------------------------------\n"
     ]
    }
   ],
   "source": [
    "# also can process a strict identity\n",
    "\n",
    "print('-----------------------------------')\n",
    "print('strict identity')\n",
    "a = c = [2, 3, 4]\n",
    "b = (2, 3, 4)\n",
    "b = list(b)\n",
    "print('a -> ',a)\n",
    "print('b -> ',b)\n",
    "print('c -> ',c)\n",
    "print('a is c')\n",
    "print(a is c)\n",
    "print('a is b')\n",
    "print(a is b)\n",
    "print('-----------------------------------')\n"
   ]
  },
  {
   "cell_type": "markdown",
   "metadata": {},
   "source": [
    "#### Logical connectors and Not"
   ]
  },
  {
   "cell_type": "code",
   "execution_count": null,
   "metadata": {},
   "outputs": [
    {
     "name": "stdout",
     "output_type": "stream",
     "text": [
      "-----------------------------------\n",
      "not\n",
      "not 2 == 2\n",
      "False\n",
      "not False\n",
      "True\n",
      "-----------------------------------\n"
     ]
    }
   ],
   "source": [
    "'''We can complement all the functions we had seen before \n",
    "   with the use of logical connectors and the not statement'''\n",
    "\n",
    "'''As we saw in boolean operations in the booleans section the \n",
    "   connectors can be use with booleans\n",
    "   and also with the functions before and not'''\n",
    "\n",
    "print('-----------------------------------')\n",
    "\n",
    "print('not')\n",
    "print('not 2 == 2')\n",
    "print(not 2==2)\n",
    "print('not False')\n",
    "print(not False)\n",
    "\n",
    "print('-----------------------------------')"
   ]
  },
  {
   "cell_type": "markdown",
   "metadata": {},
   "source": [
    "#### Advance logical statements"
   ]
  },
  {
   "cell_type": "code",
   "execution_count": null,
   "metadata": {},
   "outputs": [
    {
     "name": "stdout",
     "output_type": "stream",
     "text": [
      "-----------------------------------\n",
      "(a and not b) or (not a and b)\n",
      "-----------------------------------\n",
      "False\n",
      "-----------------------------------\n",
      "True\n",
      "-----------------------------------\n",
      "True\n",
      "-----------------------------------\n",
      "False\n",
      "-----------------------------------\n"
     ]
    }
   ],
   "source": [
    "# as example we can replicate a xor door using previous statements\n",
    "\n",
    "print('-----------------------------------')\n",
    "\n",
    "print('(a and not b) or (not a and b)')\n",
    "\n",
    "print('-----------------------------------')\n",
    "\n",
    "a = b = True\n",
    "print((a and not b) or (not a and b))\n",
    "\n",
    "print('-----------------------------------')\n",
    "\n",
    "a = True\n",
    "b = False\n",
    "print((a and not b) or (not a and b))\n",
    "\n",
    "print('-----------------------------------')\n",
    "\n",
    "a = False\n",
    "b = True\n",
    "print((a and not b) or (not a and b))\n",
    "\n",
    "print('-----------------------------------')\n",
    "\n",
    "a = b = False\n",
    "print((a and not b) or (not a and b))\n",
    "\n",
    "print('-----------------------------------')"
   ]
  },
  {
   "cell_type": "markdown",
   "metadata": {},
   "source": [
    "### Loops"
   ]
  },
  {
   "cell_type": "markdown",
   "metadata": {},
   "source": [
    "#### If loop"
   ]
  },
  {
   "cell_type": "code",
   "execution_count": 39,
   "metadata": {},
   "outputs": [
    {
     "name": "stdout",
     "output_type": "stream",
     "text": [
      "you are a adult\n"
     ]
    }
   ],
   "source": [
    "'''The objective of the if loop is to let us execute different code\n",
    "   in dependance of a given condition'''\n",
    "\n",
    "age = 20\n",
    "\n",
    "if age < 10:\n",
    "    print('you are a child')\n",
    "elif 10 < age < 18:\n",
    "    print('you are a teenager')\n",
    "else: \n",
    "    print('you are a adult')"
   ]
  },
  {
   "cell_type": "markdown",
   "metadata": {},
   "source": [
    "#### While loop"
   ]
  },
  {
   "cell_type": "code",
   "execution_count": 44,
   "metadata": {},
   "outputs": [
    {
     "name": "stdout",
     "output_type": "stream",
     "text": [
      "1\n",
      "1\n",
      "2\n",
      "3\n",
      "5\n",
      "8\n",
      "13\n",
      "21\n",
      "34\n",
      "55\n",
      "89\n",
      "144\n",
      "233\n",
      "377\n"
     ]
    }
   ],
   "source": [
    "'''The objective of the while loop is to execute a operation while\n",
    "   a condition is meet'''\n",
    "\n",
    "a = 1\n",
    "b = 1\n",
    "\n",
    "print(a)\n",
    "\n",
    "while b < 500:\n",
    "    print(b)\n",
    "    new_b = a + b\n",
    "    a = b\n",
    "    b = new_b\n",
    "\n",
    "# this code print the fibbonacci serie while b is less than 500"
   ]
  },
  {
   "cell_type": "markdown",
   "metadata": {},
   "source": [
    "#### For loop"
   ]
  },
  {
   "cell_type": "code",
   "execution_count": 51,
   "metadata": {},
   "outputs": [
    {
     "name": "stdout",
     "output_type": "stream",
     "text": [
      "-----------------------------------\n",
      "potato\n",
      "potatotato\n",
      "potatotatotato\n",
      "potatotatotatotato\n",
      "potatotatotatotatotato\n",
      "potatotatotatotatotatotato\n",
      "potatotatotatotatotatotatotato\n",
      "potatotatotatotatotatotatotatotato\n",
      "potatotatotatotatotatotatotatotatotato\n",
      "potatotatotatotatotatotatotatotatotatotato\n",
      "-----------------------------------\n",
      "They destroy the wall Maria\n",
      "They destroy the wall Rose\n",
      "They destroy the wall Sina\n",
      "-----------------------------------\n"
     ]
    }
   ],
   "source": [
    "'''The objective of the for loop is to iterate through a value collection\n",
    "   for make a operation with his values or for repeat a process given \n",
    "   a specific quantity of times'''\n",
    "\n",
    "print('-----------------------------------')\n",
    "\n",
    "# this code exten the word potato and print it 10 times\n",
    "\n",
    "word = 'potato'\n",
    "\n",
    "for _ in range(10):\n",
    "    print(word)\n",
    "    word += 'tato'\n",
    "\n",
    "print('-----------------------------------')\n",
    "\n",
    "# this code announce that the walls in the list was destroyed\n",
    "\n",
    "for wall in ['Maria', 'Rose', 'Sina']:\n",
    "    print(f'They destroy the wall {wall}')\n",
    "\n",
    "print('-----------------------------------')"
   ]
  },
  {
   "cell_type": "markdown",
   "metadata": {},
   "source": [
    "#### Break and continue"
   ]
  },
  {
   "cell_type": "code",
   "execution_count": 66,
   "metadata": {},
   "outputs": [
    {
     "name": "stdout",
     "output_type": "stream",
     "text": [
      "-----------------------------------\n",
      "in this restauran we do not receive luna\n",
      "['juan', 'maria'] please enter\n",
      "-----------------------------------\n",
      "in this restaurant we do not receive pepe or his friends\n",
      "-----------------------------------\n"
     ]
    }
   ],
   "source": [
    "'''Break and continue are commands that are used respectively for exit a loop\n",
    "   or for step over this part of the loop execution'''\n",
    "\n",
    "''' in this particular case we are going to use for else a for loop that\n",
    "    after end without use a break execute the code inside else'''\n",
    "\n",
    "print('-----------------------------------')\n",
    "\n",
    "received = []\n",
    "\n",
    "for person in ['juan', 'luna', 'maria']:\n",
    "    if person == 'pepe':\n",
    "        print('in this restaurant we do not receive pepe or his friends')\n",
    "        break\n",
    "    if person == 'luna':\n",
    "        print('in this restauran we do not receive luna')\n",
    "        continue\n",
    "    received.append(person)\n",
    "else:\n",
    "    print(received, 'please enter')\n",
    "\n",
    "print('-----------------------------------')\n",
    "\n",
    "received = []\n",
    "\n",
    "for person in ['juan', 'maria', 'pepe']:\n",
    "    if person == 'pepe':\n",
    "        print('in this restaurant we do not receive pepe or his friends')\n",
    "        break\n",
    "    if person == 'luna':\n",
    "        print('in this restauran we do not receive luna')\n",
    "        continue\n",
    "    received.append(person)\n",
    "else:\n",
    "    print(received, 'please enter')\n",
    "\n",
    "print('-----------------------------------')"
   ]
  },
  {
   "cell_type": "markdown",
   "metadata": {},
   "source": [
    "#### Extra: Exceptions"
   ]
  },
  {
   "cell_type": "code",
   "execution_count": 57,
   "metadata": {},
   "outputs": [
    {
     "name": "stdout",
     "output_type": "stream",
     "text": [
      "-----------------------------------\n",
      "You cant divide by 0\n",
      "-----------------------------------\n",
      "You cant divide by 0\n",
      "-----------------------------------\n"
     ]
    }
   ],
   "source": [
    "'''Commonly when defending our code of bad data we\n",
    "   can use exceptions in python over if, that is because\n",
    "   python philosopy benefit the use of exceptions giving it faster\n",
    "   times'''\n",
    "\n",
    "'''There is exception for practically all functions in\n",
    "   python and write quality code, specially in advance\n",
    "   code means to keep them in mind'''\n",
    "\n",
    "\n",
    "# for example a division\n",
    "\n",
    "a = 10\n",
    "b = 0\n",
    "\n",
    "print('-----------------------------------')\n",
    "# we can do this\n",
    "\n",
    "if not b == 0:\n",
    "    print(a / b)\n",
    "else:\n",
    "    print('You cant divide by 0')\n",
    "\n",
    "print('-----------------------------------')\n",
    "# but is better to do\n",
    "\n",
    "try:\n",
    "    print(a / b)\n",
    "except ZeroDivisionError:\n",
    "    print('You cant divide by 0')\n",
    "\n",
    "print('-----------------------------------')"
   ]
  },
  {
   "cell_type": "markdown",
   "metadata": {},
   "source": [
    "### Collection comprehension"
   ]
  },
  {
   "cell_type": "code",
   "execution_count": 69,
   "metadata": {},
   "outputs": [
    {
     "name": "stdout",
     "output_type": "stream",
     "text": [
      "[1, 3, 5, 7, 9, 11, 13, 15, 17, 19, 21, 23, 25, 27, 29, 31, 33, 35, 37, 39, 41, 43, 45, 47, 49, 51, 53, 55, 57, 59, 61, 63, 65, 67, 69, 71, 73, 75, 77, 79, 81, 83, 85, 87, 89, 91, 93, 95, 97, 99]\n"
     ]
    }
   ],
   "source": [
    "'''in python some of the basic collections can be written using comprehension\n",
    "   as shown next'''\n",
    "\n",
    "list_odd_until_one_hundred = [x for x in range(101) if x % 2 == 1]\n",
    "print(list_odd_until_one_hundred)"
   ]
  },
  {
   "cell_type": "code",
   "execution_count": 76,
   "metadata": {},
   "outputs": [
    {
     "name": "stdout",
     "output_type": "stream",
     "text": [
      "{1: 7, 2: 18, 3: 29, 4: 40, 5: 51, 6: 62, 7: 73, 8: 84, 9: 95, 10: 106, 11: 117, 12: 128, 13: 139, 14: 150, 15: 161, 16: 172, 17: 183, 18: 194, 19: 205, 20: 216, 21: 227, 22: 238, 23: 249, 24: 260, 25: 271, 26: 282, 27: 293, 28: 304, 29: 315, 30: 326, 31: 337, 32: 348, 33: 359, 34: 370, 35: 381, 36: 392, 37: 403, 38: 414, 39: 425, 40: 436, 41: 447, 42: 458, 43: 469, 44: 480, 45: 491, 46: 502, 47: 513, 48: 524, 49: 535, 50: 546, 51: 557, 52: 568, 53: 579, 54: 590, 55: 601, 56: 612, 57: 623, 58: 634, 59: 645, 60: 656, 61: 667, 62: 678, 63: 689, 64: 700, 65: 711, 66: 722, 67: 733, 68: 744, 69: 755, 70: 766, 71: 777, 72: 788, 73: 799, 74: 810, 75: 821, 76: 832, 77: 843, 78: 854, 79: 865, 80: 876, 81: 887, 82: 898, 83: 909, 84: 920, 85: 931, 86: 942, 87: 953, 88: 964, 89: 975, 90: 986, 91: 997}\n"
     ]
    }
   ],
   "source": [
    "list_congruence_7_mod_11 = [x for x in range(1001) if x % 11 == 7]\n",
    "# enumerate simply generate tuples enumerated by order\n",
    "# for can be used for unpack some collections\n",
    "dict_congruence_7_mod_11 = {(x + 1):y for x, y in \n",
    "                            enumerate(list_congruence_7_mod_11)}\n",
    "\n",
    "print(dict_congruence_7_mod_11)"
   ]
  },
  {
   "cell_type": "markdown",
   "metadata": {},
   "source": [
    "## Functions and OOP"
   ]
  },
  {
   "cell_type": "markdown",
   "metadata": {},
   "source": [
    "### Functions"
   ]
  },
  {
   "cell_type": "markdown",
   "metadata": {},
   "source": [
    "#### User defined functions"
   ]
  },
  {
   "cell_type": "code",
   "execution_count": 9,
   "metadata": {},
   "outputs": [
    {
     "name": "stdout",
     "output_type": "stream",
     "text": [
      "-----------------------------------\n",
      "5\n",
      "-----------------------------------\n",
      "15\n",
      "-----------------------------------\n",
      "we are going to bogota the day 10\n",
      "-----------------------------------\n"
     ]
    }
   ],
   "source": [
    "'''For define a function we only need to use de word def and describe\n",
    "   the inputs of our function, at the end we use return for our output'''\n",
    "\n",
    "print('-----------------------------------')\n",
    "\n",
    "def sum_elements(a, b):\n",
    "   return(a + b)\n",
    "\n",
    "print(sum_elements(2, 3))\n",
    "\n",
    "print('-----------------------------------')\n",
    "\n",
    "# we can use a n number of entries using *args\n",
    "\n",
    "def sum_a_lot_of_elements(*args):\n",
    "   r = 0\n",
    "   for x in args:\n",
    "      r += x\n",
    "   return r\n",
    "\n",
    "print(sum_a_lot_of_elements(1, 2, 3, 4, 5))\n",
    "\n",
    "print('-----------------------------------')\n",
    "\n",
    "# we can use name argument using **kwargs\n",
    "\n",
    "def travel_plan(**kwargs):\n",
    "   value = f'we are going to {kwargs[\"ciudad\"]} the day {kwargs[\"fecha\"]}'\n",
    "   return value\n",
    "\n",
    "print(travel_plan(ciudad='bogota', fecha=10))\n",
    "\n",
    "print('-----------------------------------')"
   ]
  },
  {
   "cell_type": "markdown",
   "metadata": {},
   "source": [
    "#### Lambda functions"
   ]
  },
  {
   "cell_type": "code",
   "execution_count": 18,
   "metadata": {},
   "outputs": [
    {
     "name": "stdout",
     "output_type": "stream",
     "text": [
      "-----------------------------------\n",
      "5\n",
      "-----------------------------------\n",
      "119\n",
      "-----------------------------------\n"
     ]
    }
   ],
   "source": [
    "'''lambda functions are a way to make reduced functions declarations \n",
    "   in case of need'''\n",
    "\n",
    "print('-----------------------------------')\n",
    "\n",
    "a = lambda x : x[-1]\n",
    "\n",
    "print(a([1,2,3,4,5]))\n",
    "\n",
    "print('-----------------------------------')\n",
    "\n",
    "b = lambda x, y: (x ** y) - 2\n",
    "\n",
    "print(b(11, 2))\n",
    "\n",
    "print('-----------------------------------')"
   ]
  },
  {
   "cell_type": "markdown",
   "metadata": {},
   "source": [
    "#### Built-in functions"
   ]
  },
  {
   "cell_type": "code",
   "execution_count": 14,
   "metadata": {},
   "outputs": [
    {
     "name": "stdout",
     "output_type": "stream",
     "text": [
      "-----------------------------------\n",
      "[4, 6, 8, 10]\n",
      "-----------------------------------\n",
      "[10, 9, 8, 7, 6, 5, 4, 3, 2, 1]\n",
      "-----------------------------------\n"
     ]
    }
   ],
   "source": [
    "'''range is a generator function that generates number given\n",
    "   a start(inclusive), end(exclusive), step'''\n",
    "\n",
    "# * is the unpack operator and let us see the range results\n",
    "\n",
    "print('-----------------------------------')\n",
    "\n",
    "print([*range(4,11,2)])\n",
    "\n",
    "print('-----------------------------------')\n",
    "\n",
    "print([*range(10,0,-1)])\n",
    "\n",
    "print('-----------------------------------')"
   ]
  },
  {
   "cell_type": "code",
   "execution_count": 21,
   "metadata": {},
   "outputs": [
    {
     "name": "stdout",
     "output_type": "stream",
     "text": [
      "[1024, 121, 576, 4, 9, 16, 64, 81]\n"
     ]
    }
   ],
   "source": [
    "'''map function is a function that given a list apply a function \n",
    "   to every element of the list, is a generator so again msut use *'''\n",
    "\n",
    "not_squared_numbers = [32, 11, 24, 2, 3, 4, 8, 9]\n",
    "squared_numbers = [*map(lambda x : x ** 2, not_squared_numbers)]\n",
    "print(squared_numbers)"
   ]
  },
  {
   "cell_type": "code",
   "execution_count": 26,
   "metadata": {},
   "outputs": [
    {
     "name": "stdout",
     "output_type": "stream",
     "text": [
      "-----------------------------------\n",
      "[1, 2, 3, 10, 10, 65, 75, 82]\n",
      "-----------------------------------\n",
      "[82, 75, 65, 10, 10, 3, 2, 1]\n",
      "-----------------------------------\n",
      "[10, 10, 1, 2, 82, 3, 65, 75]\n",
      "-----------------------------------\n"
     ]
    }
   ],
   "source": [
    "'''sorted in a function that can sort a list given certain parameters'''\n",
    "\n",
    "print('-----------------------------------')\n",
    "\n",
    "A = [10, 2, 3, 65, 1, 75, 82, 10]\n",
    "\n",
    "# sort normally\n",
    "print(sorted(A))\n",
    "\n",
    "print('-----------------------------------')\n",
    "\n",
    "# sort inverse\n",
    "print(sorted(A, reverse=True))\n",
    "\n",
    "print('-----------------------------------')\n",
    "\n",
    "# sort by function\n",
    "print(sorted(A, key=lambda x:x%10))\n",
    "\n",
    "print('-----------------------------------')"
   ]
  },
  {
   "cell_type": "markdown",
   "metadata": {},
   "source": [
    "### Object Oriented Programming"
   ]
  },
  {
   "cell_type": "code",
   "execution_count": 41,
   "metadata": {},
   "outputs": [
    {
     "name": "stdout",
     "output_type": "stream",
     "text": [
      "-----------------------------------\n",
      "car of color red and model ferrari\n",
      "-----------------------------------\n",
      "car of color blue and model ferrari\n",
      "-----------------------------------\n",
      "potatoes, 21, 32.4\n",
      "-----------------------------------\n"
     ]
    }
   ],
   "source": [
    "'''a class is no more no less than a data type that acts as container for data\n",
    "   and for methods that will ve applied for manipulate the data in it'''\n",
    "\n",
    "#remember __methods__ are special methods called for specific situations\n",
    "\n",
    "print('-----------------------------------')\n",
    "\n",
    "class car:\n",
    "    def __init__(self, model, color):\n",
    "        self.model = model\n",
    "        self.color = color\n",
    "    def describe(self):\n",
    "        return f'car of color {self.color} and model {self.model}'\n",
    "\n",
    "A = car('ferrari', 'red')\n",
    "print(A.describe())\n",
    "\n",
    "print('-----------------------------------')\n",
    "\n",
    "# we can change the values on fly\n",
    "A.color = 'blue'\n",
    "print(A.describe())\n",
    "\n",
    "# we can use inheritance also for extend functionalities of classes\n",
    "\n",
    "print('-----------------------------------')\n",
    "\n",
    "class readable_list(list):\n",
    "    def __repr__(self):\n",
    "        r = ''\n",
    "        for x in self[:-1]:\n",
    "            r += str(x) + ', '\n",
    "        return r + str(self[-1])\n",
    "\n",
    "B = readable_list(('potatoes', 21 ,32.4))\n",
    "print(B)\n",
    "\n",
    "print('-----------------------------------')\n"
   ]
  },
  {
   "cell_type": "code",
   "execution_count": null,
   "metadata": {},
   "outputs": [],
   "source": []
  }
 ],
 "metadata": {
  "interpreter": {
   "hash": "8566d5b3db2d2379055eca8baa03a93a24eb9beddcf81663d999e48bee32b18e"
  },
  "kernelspec": {
   "display_name": "Python 3.10.0 64-bit",
   "language": "python",
   "name": "python3"
  },
  "language_info": {
   "codemirror_mode": {
    "name": "ipython",
    "version": 3
   },
   "file_extension": ".py",
   "mimetype": "text/x-python",
   "name": "python",
   "nbconvert_exporter": "python",
   "pygments_lexer": "ipython3",
   "version": "3.10.0"
  },
  "orig_nbformat": 4
 },
 "nbformat": 4,
 "nbformat_minor": 2
}
