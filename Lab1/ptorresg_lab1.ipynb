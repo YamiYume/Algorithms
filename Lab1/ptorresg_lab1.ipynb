{
 "cells": [
  {
   "cell_type": "markdown",
   "metadata": {},
   "source": [
    "# Laboratory #1 algorithms"
   ]
  },
  {
   "cell_type": "markdown",
   "metadata": {},
   "source": [
    "## Data types and data structures"
   ]
  },
  {
   "cell_type": "markdown",
   "metadata": {},
   "source": [
    "### Basic data types"
   ]
  },
  {
   "cell_type": "markdown",
   "metadata": {},
   "source": [
    "#### Strings"
   ]
  },
  {
   "cell_type": "code",
   "execution_count": 6,
   "metadata": {},
   "outputs": [
    {
     "name": "stdout",
     "output_type": "stream",
     "text": [
      "-----------------------------------\n",
      "<class 'str'>\n",
      "<class 'str'>\n",
      "<class 'str'>\n",
      "<class 'str'>\n",
      "-----------------------------------\n",
      "hello potatoes\n",
      "-----------------------------------\n",
      "hello hello potatoes\n",
      "-----------------------------------\n",
      "h\n",
      "e\n",
      "l\n",
      "l\n",
      "o\n",
      "-----------------------------------\n",
      "pot\n",
      "toes\n",
      "at\n",
      "ptte\n",
      "oaos\n",
      "-----------------------------------\n"
     ]
    }
   ],
   "source": [
    "print('-----------------------------------')\n",
    "\n",
    "string_1 = 'hello'\n",
    "string_2 = \"potatoes\"\n",
    "string_3 = '100'\n",
    "string_4 = \"1.234\"\n",
    "\n",
    "#string identification\n",
    "'''The type of string members is str'''\n",
    "print(type(string_1))\n",
    "print(type(string_2))\n",
    "print(type(string_3))\n",
    "print(type(string_4))\n",
    "\n",
    "print('-----------------------------------')\n",
    "\n",
    "# string concatenation\n",
    "'''Is possible to concaternate any number of strings by using\n",
    "   the operator +'''\n",
    "concatenated_string = string_1 + ' ' + string_2\n",
    "print(concatenated_string)\n",
    "\n",
    "print('-----------------------------------')\n",
    "\n",
    "'''Is possible to repetively concatenate strings by using the\n",
    "   operator *'''\n",
    "# advance string concatenation\n",
    "advance_concatenated_string = (string_1 + ' ')*2 + string_2\n",
    "print(advance_concatenated_string)\n",
    "\n",
    "print('-----------------------------------')\n",
    "\n",
    "# string access\n",
    "'''Is possible to access a specific character in a string\n",
    "   by using the access operator [], the index start from 0'''\n",
    "print(string_1[0])\n",
    "print(string_1[1])\n",
    "print(string_1[2])\n",
    "print(string_1[3])\n",
    "print(string_1[4])\n",
    "\n",
    "print('-----------------------------------')\n",
    "\n",
    "# string slicing\n",
    "'''Is possible to slice a string in very different ways \n",
    "   by using the access operator [] and the operator :'''\n",
    "end_sliced_string = string_2[:3]\n",
    "start_sliced_string = string_2[4:]\n",
    "mid_sliced_string = string_2[3:5]\n",
    "step_sliced_string = string_2[::2]\n",
    "other_step_sliced_string = string_2[1::2]\n",
    "print(end_sliced_string)\n",
    "print(start_sliced_string)\n",
    "print(mid_sliced_string)\n",
    "print(step_sliced_string)\n",
    "print(other_step_sliced_string)\n",
    "\n",
    "print('-----------------------------------')\n"
   ]
  },
  {
   "cell_type": "markdown",
   "metadata": {},
   "source": [
    "#### Integers"
   ]
  },
  {
   "cell_type": "code",
   "execution_count": 7,
   "metadata": {},
   "outputs": [
    {
     "name": "stdout",
     "output_type": "stream",
     "text": [
      "-----------------------------------\n",
      "<class 'int'>\n",
      "<class 'int'>\n",
      "<class 'int'>\n",
      "<class 'int'>\n",
      "-----------------------------------\n",
      "10 + 2\n",
      "12\n",
      "10 - 2\n",
      "8\n",
      "10 * 2\n",
      "20\n",
      "10 / 2\n",
      "5.0\n",
      "10 ** 2\n",
      "100\n",
      "11 % 5\n",
      "1\n",
      "11 // 2\n",
      "5\n",
      "-----------------------------------\n"
     ]
    }
   ],
   "source": [
    "print('-----------------------------------')\n",
    "\n",
    "# integer identification\n",
    "'''The type of string member is int'''\n",
    "print(type(121))\n",
    "print(type(2))\n",
    "print(type(-3))\n",
    "print(type(-2000))\n",
    "\n",
    "print('-----------------------------------')\n",
    "\n",
    "# integer operators\n",
    "added_int = 10 + 2\n",
    "subtracted_int = 10 - 2\n",
    "multiplied_int = 10 * 2\n",
    "'''In particular division always return a float, for integer result\n",
    "   use the floor division'''\n",
    "divided_int = 10 / 2\n",
    "# pow operator in python\n",
    "powered_int = 10 ** 2\n",
    "# module operator python\n",
    "moduled_int = 11 % 5\n",
    "# floor division python\n",
    "floor_divided_int = 11//2\n",
    "\n",
    "print('10 + 2')\n",
    "print(added_int)\n",
    "print('10 - 2')\n",
    "print(subtracted_int)\n",
    "print('10 * 2')\n",
    "print(multiplied_int)\n",
    "print('10 / 2')\n",
    "print(divided_int)\n",
    "print('10 ** 2')\n",
    "print(powered_int)\n",
    "print('11 % 5')\n",
    "print(moduled_int)\n",
    "print('11 // 2')\n",
    "print(floor_divided_int)\n",
    "\n",
    "print('-----------------------------------')\n"
   ]
  },
  {
   "cell_type": "markdown",
   "metadata": {},
   "source": [
    "#### Floats"
   ]
  },
  {
   "cell_type": "code",
   "execution_count": 8,
   "metadata": {},
   "outputs": [
    {
     "name": "stdout",
     "output_type": "stream",
     "text": [
      "-----------------------------------\n",
      "<class 'float'>\n",
      "<class 'float'>\n",
      "<class 'float'>\n",
      "<class 'float'>\n",
      "-----------------------------------\n",
      "10 + 2.4\n",
      "13.4\n",
      "10.2 - 2\n",
      "8.2\n",
      "10.44 * 2\n",
      "20.88\n",
      "10 / 2.6\n",
      "3.846153846153846\n",
      "10.57 ** 2\n",
      "111.7249\n",
      "11.45 % 5\n",
      "1.4499999999999993\n",
      "12.45 // 2\n",
      "6.0\n",
      "-----------------------------------\n"
     ]
    }
   ],
   "source": [
    "print('-----------------------------------')\n",
    "\n",
    "# float identification\n",
    "'''The type of string member is float'''\n",
    "print(type(122.54))\n",
    "print(type(2.34))\n",
    "print(type(0.0))\n",
    "print(type(-126.34))\n",
    "\n",
    "print('-----------------------------------')\n",
    "\n",
    "# float operators\n",
    "added_float = 11 + 2.4\n",
    "subtracted_float = 10.2 - 2\n",
    "multiplied_float = 10.44 * 2\n",
    "'''In particular division always return a float, for integer result\n",
    "   use the floor division'''\n",
    "divided_float = 10 / 2.6\n",
    "# pow operator in python\n",
    "powered_float = 10.57 ** 2\n",
    "# module operator python\n",
    "moduled_float = 11.45 % 5\n",
    "# floor division python\n",
    "floor_divided_float = 12.45//2\n",
    "\n",
    "print('10 + 2.4')\n",
    "print(added_float)\n",
    "print('10.2 - 2')\n",
    "print(subtracted_float)\n",
    "print('10.44 * 2')\n",
    "print(multiplied_float)\n",
    "print('10 / 2.6')\n",
    "print(divided_float)\n",
    "print('10.57 ** 2')\n",
    "print(powered_float)\n",
    "print('11.45 % 5')\n",
    "print(moduled_float)\n",
    "print('12.45 // 2')\n",
    "print(floor_divided_float)\n",
    "\n",
    "print('-----------------------------------')\n"
   ]
  },
  {
   "cell_type": "markdown",
   "metadata": {},
   "source": [
    "#### Booleans"
   ]
  },
  {
   "cell_type": "code",
   "execution_count": 9,
   "metadata": {},
   "outputs": [
    {
     "name": "stdout",
     "output_type": "stream",
     "text": [
      "-----------------------------------\n",
      "<class 'bool'>\n",
      "<class 'bool'>\n",
      "-----------------------------------\n",
      "and\n",
      "True and True\n",
      "True\n",
      "True and False\n",
      "False\n",
      "False and True\n",
      "False\n",
      "False and False\n",
      "False\n",
      "\n",
      "or\n",
      "True or True\n",
      "True\n",
      "True or False\n",
      "True\n",
      "False or True\n",
      "True\n",
      "False or False\n",
      "False\n",
      "\n",
      "not\n",
      "not True\n",
      "False\n",
      "not False\n",
      "True\n"
     ]
    }
   ],
   "source": [
    "print('-----------------------------------')\n",
    "\n",
    "A = True\n",
    "B =  False\n",
    "\n",
    "# boolean identification\n",
    "'''The type of boolean member is bool'''\n",
    "print(type(A))\n",
    "print(type(B))\n",
    "\n",
    "print('-----------------------------------')\n",
    "\n",
    "# boolean operations\n",
    "'''The basic boolean operations'''\n",
    "print('and')\n",
    "print('True and True')\n",
    "print(True and True)\n",
    "print('True and False')\n",
    "print(True and False)\n",
    "print('False and True')\n",
    "print(False and True)\n",
    "print('False and False')\n",
    "print(False and False)\n",
    "print('')\n",
    "print('or')\n",
    "print('True or True')\n",
    "print(True or True)\n",
    "print('True or False')\n",
    "print(True or False)\n",
    "print('False or True')\n",
    "print(False or True)\n",
    "print('False or False')\n",
    "print(False or False)\n",
    "print('')\n",
    "print('not')\n",
    "print('not True')\n",
    "print(not True)\n",
    "print('not False')\n",
    "print(not False)\n"
   ]
  },
  {
   "cell_type": "markdown",
   "metadata": {},
   "source": [
    "#### Integer, Float and String transformations"
   ]
  },
  {
   "cell_type": "code",
   "execution_count": 19,
   "metadata": {},
   "outputs": [
    {
     "name": "stdout",
     "output_type": "stream",
     "text": [
      "-----------------------------------\n",
      "integer transformation\n",
      "205\n",
      "-204\n",
      "123\n",
      "-----------------------------------\n",
      "float transformation\n",
      "20.0\n",
      "-23.0\n",
      "123.0\n",
      "254.6\n",
      "-----------------------------------\n",
      "string transformation\n",
      "20\n",
      "-23\n",
      "205.45\n",
      "-204.67\n",
      "-----------------------------------\n"
     ]
    }
   ],
   "source": [
    "float_example_1 = 205.45\n",
    "float_example_2 = -204.67\n",
    "integer_example_1 = 20\n",
    "integer_example_2 = -23\n",
    "string_example_1 = '123'\n",
    "string_example_2 = '254.6'\n",
    "\n",
    "print('-----------------------------------')\n",
    "\n",
    "print('integer transformation')\n",
    "# transformations to integer\n",
    "print(int(float_example_1))\n",
    "print(int(float_example_2))\n",
    "print(int(string_example_1))\n",
    "\n",
    "print('-----------------------------------')\n",
    "\n",
    "print('float transformation')\n",
    "# transformation to float\n",
    "print(float(integer_example_1))\n",
    "print(float(integer_example_2))\n",
    "print(float(string_example_1))\n",
    "print(float(string_example_2))\n",
    "\n",
    "print('-----------------------------------')\n",
    "\n",
    "print('string transformation')\n",
    "# transformation to string\n",
    "print(str(integer_example_1))\n",
    "print(str(integer_example_2))\n",
    "print(str(float_example_1))\n",
    "print(str(float_example_2))\n",
    "\n",
    "print('-----------------------------------')\n"
   ]
  },
  {
   "cell_type": "markdown",
   "metadata": {},
   "source": [
    "#### Boolean evaluation"
   ]
  },
  {
   "cell_type": "code",
   "execution_count": 21,
   "metadata": {},
   "outputs": [
    {
     "name": "stdout",
     "output_type": "stream",
     "text": [
      "-----------------------------------\n",
      "''\n",
      "False\n",
      "anything\n",
      "True\n",
      "0\n",
      "False\n",
      "23\n",
      "True\n",
      "0.0\n",
      "False\n",
      "-122.2\n",
      "True\n",
      "-----------------------------------\n"
     ]
    }
   ],
   "source": [
    "false_string = ''\n",
    "true_string = 'anything'\n",
    "false_int = 0\n",
    "true_int = 23\n",
    "false_float = 0.0\n",
    "true_float = -122.2\n",
    "\n",
    "\n",
    "print('-----------------------------------')\n",
    "\n",
    "# bool evaluation of values\n",
    "''' In python every object can have a definition for its\n",
    "    boolean value'''\n",
    "print(\"''\")\n",
    "print(bool(false_string))\n",
    "print(true_string)\n",
    "print(bool(true_string))\n",
    "print(false_int)\n",
    "print(bool(false_int))\n",
    "print(true_int)\n",
    "print(bool(true_int))\n",
    "print(false_float)\n",
    "print(bool(false_float))\n",
    "print(true_float)\n",
    "print(bool(true_float))\n",
    "\n",
    "print('-----------------------------------')\n"
   ]
  }
 ],
 "metadata": {
  "interpreter": {
   "hash": "8566d5b3db2d2379055eca8baa03a93a24eb9beddcf81663d999e48bee32b18e"
  },
  "kernelspec": {
   "display_name": "Python 3.10.0 64-bit",
   "language": "python",
   "name": "python3"
  },
  "language_info": {
   "codemirror_mode": {
    "name": "ipython",
    "version": 3
   },
   "file_extension": ".py",
   "mimetype": "text/x-python",
   "name": "python",
   "nbconvert_exporter": "python",
   "pygments_lexer": "ipython3",
   "version": "3.10.0"
  },
  "orig_nbformat": 4
 },
 "nbformat": 4,
 "nbformat_minor": 2
}
